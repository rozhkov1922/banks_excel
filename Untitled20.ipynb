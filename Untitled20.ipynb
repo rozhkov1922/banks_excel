{
 "cells": [
  {
   "cell_type": "markdown",
   "id": "1b67478e",
   "metadata": {},
   "source": [
    "Загружаем библиотеки "
   ]
  },
  {
   "cell_type": "code",
   "execution_count": 27,
   "id": "8f3371f5-8b11-4c39-8c32-d6be6fa94372",
   "metadata": {},
   "outputs": [],
   "source": [
    "import pandas as pd\n",
    "\n"
   ]
  },
  {
   "cell_type": "markdown",
   "id": "75072051",
   "metadata": {},
   "source": [
    "Загружаем данные"
   ]
  },
  {
   "cell_type": "code",
   "execution_count": 28,
   "id": "1d7c541d",
   "metadata": {},
   "outputs": [],
   "source": [
    "data = pd.read_csv('Блок3_Данные.csv', sep=';', encoding='cp1251')\n"
   ]
  },
  {
   "cell_type": "markdown",
   "id": "321bbbd3",
   "metadata": {},
   "source": [
    "Предобработка данных "
   ]
  },
  {
   "cell_type": "code",
   "execution_count": 29,
   "id": "ad0b61f8",
   "metadata": {},
   "outputs": [
    {
     "name": "stdout",
     "output_type": "stream",
     "text": [
      "<class 'pandas.core.frame.DataFrame'>\n",
      "RangeIndex: 114117 entries, 0 to 114116\n",
      "Data columns (total 5 columns):\n",
      " #   Column                   Non-Null Count   Dtype \n",
      "---  ------                   --------------   ----- \n",
      " 0   id                       114117 non-null  int64 \n",
      " 1   Дата                     114117 non-null  object\n",
      " 2   Просрочка, дней          114117 non-null  int64 \n",
      " 3   Тип обязательства        114117 non-null  object\n",
      " 4   Первоначальный кредитор  114117 non-null  object\n",
      "dtypes: int64(2), object(3)\n",
      "memory usage: 4.4+ MB\n"
     ]
    }
   ],
   "source": [
    "data.info()"
   ]
  },
  {
   "cell_type": "code",
   "execution_count": 30,
   "id": "d95715d9",
   "metadata": {},
   "outputs": [],
   "source": [
    "data ['Дата'] = pd.to_datetime(data['Дата'])"
   ]
  },
  {
   "cell_type": "code",
   "execution_count": 31,
   "id": "764c6dd5",
   "metadata": {},
   "outputs": [
    {
     "name": "stdout",
     "output_type": "stream",
     "text": [
      "<class 'pandas.core.frame.DataFrame'>\n",
      "RangeIndex: 114117 entries, 0 to 114116\n",
      "Data columns (total 5 columns):\n",
      " #   Column                   Non-Null Count   Dtype         \n",
      "---  ------                   --------------   -----         \n",
      " 0   id                       114117 non-null  int64         \n",
      " 1   Дата                     114117 non-null  datetime64[ns]\n",
      " 2   Просрочка, дней          114117 non-null  int64         \n",
      " 3   Тип обязательства        114117 non-null  object        \n",
      " 4   Первоначальный кредитор  114117 non-null  object        \n",
      "dtypes: datetime64[ns](1), int64(2), object(2)\n",
      "memory usage: 4.4+ MB\n"
     ]
    }
   ],
   "source": [
    "data.info()"
   ]
  },
  {
   "cell_type": "code",
   "execution_count": 32,
   "id": "da971ada",
   "metadata": {},
   "outputs": [
    {
     "data": {
      "text/plain": [
       "id                         0\n",
       "Дата                       0\n",
       "Просрочка, дней            0\n",
       "Тип обязательства          0\n",
       "Первоначальный кредитор    0\n",
       "dtype: int64"
      ]
     },
     "execution_count": 32,
     "metadata": {},
     "output_type": "execute_result"
    }
   ],
   "source": [
    "data.isna().sum()"
   ]
  },
  {
   "cell_type": "code",
   "execution_count": 33,
   "id": "8d3b9545",
   "metadata": {},
   "outputs": [
    {
     "data": {
      "text/plain": [
       "41108"
      ]
     },
     "execution_count": 33,
     "metadata": {},
     "output_type": "execute_result"
    }
   ],
   "source": [
    "data['id'].duplicated().sum()"
   ]
  },
  {
   "cell_type": "code",
   "execution_count": 34,
   "id": "6de9596b",
   "metadata": {},
   "outputs": [
    {
     "data": {
      "text/plain": [
       "Потребительский    112313\n",
       "Ипотека              1804\n",
       "Name: Тип обязательства, dtype: int64"
      ]
     },
     "execution_count": 34,
     "metadata": {},
     "output_type": "execute_result"
    }
   ],
   "source": [
    "data['Тип обязательства'].value_counts()"
   ]
  },
  {
   "cell_type": "code",
   "execution_count": 35,
   "id": "46c296c3",
   "metadata": {},
   "outputs": [
    {
     "data": {
      "text/plain": [
       "ОТПБАНК        33915\n",
       "ГАЗПРОМБАНК    32288\n",
       "СБЕРБАНК       26321\n",
       "АЛЬФАБАНК      20009\n",
       "ТИНЬКОФФ        1584\n",
       "Name: Первоначальный кредитор, dtype: int64"
      ]
     },
     "execution_count": 35,
     "metadata": {},
     "output_type": "execute_result"
    }
   ],
   "source": [
    "data['Первоначальный кредитор'].value_counts()"
   ]
  },
  {
   "cell_type": "markdown",
   "id": "976afaf1",
   "metadata": {},
   "source": [
    "Функция"
   ]
  },
  {
   "cell_type": "markdown",
   "id": "09819a72",
   "metadata": {},
   "source": [
    "Функция возвращает сумму дней по всем четырем срезам за 01.01.2019 и 01.01.2020"
   ]
  },
  {
   "cell_type": "code",
   "execution_count": 43,
   "id": "992af5b3",
   "metadata": {},
   "outputs": [],
   "source": [
    "\n",
    "def process_data(data):\n",
    "    data['Без просрочки'] = (data['Просрочка, дней'] == 0)\n",
    "    data['просрочка 0 - 30 дней'] = data['Просрочка, дней'].between(1, 30)\n",
    "    data['просрочка 31-60 дней'] = data['Просрочка, дней'].between(31, 60)\n",
    "    data['просрочка 61-90 дней'] = data['Просрочка, дней'].between(61, 90)\n",
    "    data['просрочка 91+ дней'] = (data['Просрочка, дней'] >= 91)\n",
    "\n",
    "    data['Без просрочки'] = data['Без просрочки'].replace({True: 1, False: 0})\n",
    "    data['просрочка 0 - 30 дней'] = data['просрочка 0 - 30 дней'].replace({True: 1, False: 0})\n",
    "    data['просрочка 31-60 дней'] = data['просрочка 31-60 дней'].replace({True: 1, False: 0})\n",
    "    data['просрочка 61-90 дней'] = data['просрочка 61-90 дней'].replace({True: 1, False: 0})\n",
    "    data['просрочка 91+ дней'] = data['просрочка 91+ дней'].replace({True: 1, False: 0})\n",
    "\n",
    "    data_2019_01_01 = data[data['Дата'] == '2019-01-01'].copy()\n",
    "    data_2019_01_01['Без просрочки:2019-01-01'] = data_2019_01_01['Без просрочки']\n",
    "    data_2019_01_01['просрочка 0 - 30 дней:2019-01-01'] = data_2019_01_01['просрочка 0 - 30 дней']\n",
    "    data_2019_01_01['просрочка 31-60 дней:2019-01-01'] = data_2019_01_01['просрочка 31-60 дней']\n",
    "    data_2019_01_01['просрочка 61-90 дней:2019-01-01'] = data_2019_01_01['просрочка 61-90 дней']\n",
    "    data_2019_01_01['просрочка 91+ дней:2019-01-01'] = data_2019_01_01['просрочка 91+ дней']\n",
    "    \n",
    "    data_2020_01_01 = data[data['Дата'] == '2020-01-01'].copy()\n",
    "    data_2020_01_01['Без просрочки:2020-01-01'] = data_2020_01_01['Без просрочки']\n",
    "    data_2020_01_01['просрочка 0 - 30 дней:2020-01-01'] = data_2020_01_01['просрочка 0 - 30 дней']\n",
    "    data_2020_01_01['просрочка 31-60 дней:2020-01-01'] = data_2020_01_01['просрочка 31-60 дней']\n",
    "    data_2020_01_01['просрочка 61-90 дней:2020-01-01'] = data_2020_01_01['просрочка 61-90 дней']\n",
    "    data_2020_01_01['просрочка 91+ дней:2020-01-01'] = data_2020_01_01['просрочка 91+ дней']\n",
    "\n",
    "    data_2019_01_01 = data_2019_01_01.drop(columns=['Без просрочки', 'Дата', 'просрочка 0 - 30 дней', 'просрочка 31-60 дней', 'просрочка 61-90 дней', 'просрочка 91+ дней'])\n",
    "    data_2020_01_01 = data_2020_01_01.drop(columns=['Без просрочки', 'Дата', 'просрочка 0 - 30 дней', 'просрочка 31-60 дней', 'просрочка 61-90 дней', 'просрочка 91+ дней'])\n",
    "\n",
    "    merged_data = data_2019_01_01.merge(data_2020_01_01, on=['id', 'Первоначальный кредитор', 'Тип обязательства'], how='inner')\n",
    "    merged_data = merged_data.drop(columns=['Просрочка, дней_y', 'Просрочка, дней_x'])\n",
    "    merged_data['Без просрочки'] = merged_data['Без просрочки:2019-01-01'] + merged_data['Без просрочки:2020-01-01']\n",
    "    merged_data['просрочка 0 - 30'] = merged_data['просрочка 0 - 30 дней:2019-01-01'] + merged_data['просрочка 0 - 30 дней:2020-01-01']\n",
    "    merged_data['просрочка 31-60'] = merged_data['просрочка 31-60 дней:2019-01-01'] + merged_data['просрочка 31-60 дней:2020-01-01']\n",
    "    merged_data['просрочка 61-90'] = merged_data['просрочка 61-90 дней:2019-01-01'] + merged_data['просрочка 61-90 дней:2020-01-01']\n",
    "    merged_data['просрочка 91+'] = merged_data['просрочка 91+ дней:2019-01-01'] + merged_data['просрочка 91+ дней:2020-01-01']\n",
    "    merged_data = merged_data.drop(columns=['Без просрочки:2019-01-01', 'просрочка 0 - 30 дней:2019-01-01', 'просрочка 31-60 дней:2019-01-01', 'просрочка 61-90 дней:2019-01-01', 'просрочка 91+ дней:2019-01-01', 'Без просрочки:2020-01-01', 'просрочка 0 - 30 дней:2020-01-01', 'просрочка 31-60 дней:2020-01-01', 'просрочка 61-90 дней:2020-01-01', 'просрочка 91+ дней:2020-01-01'])\n",
    "\n",
    "    merged = merged_data.pivot_table(index=[\"Первоначальный кредитор\", \"Тип обязательства\"], values=[\"Без просрочки\", \"просрочка 0 - 30\", \"просрочка 31-60\", \"просрочка 61-90\", \"просрочка 91+\"], aggfunc=sum)\n",
    "    merged = merged.reset_index()\n",
    "    \n",
    "    return merged\n",
    "\n",
    "# Примените функцию к вашему DataFrame 'data':\n",
    "result = process_data(data)\n",
    "result.to_excel(r\"C:\\\\Users\\user\\Documents\\тестовое.xlsx\")\n"
   ]
  },
  {
   "cell_type": "markdown",
   "id": "1e830cdb",
   "metadata": {},
   "source": [
    "В файле excel сохраняется таблица, применив фильты к которой можно посмотреть количество дней просрочки по первоначальному кредитору и типу обязательства. "
   ]
  },
  {
   "cell_type": "code",
   "execution_count": null,
   "id": "551089ce",
   "metadata": {},
   "outputs": [],
   "source": []
  }
 ],
 "metadata": {
  "kernelspec": {
   "display_name": "Python 3 (ipykernel)",
   "language": "python",
   "name": "python3"
  },
  "language_info": {
   "codemirror_mode": {
    "name": "ipython",
    "version": 3
   },
   "file_extension": ".py",
   "mimetype": "text/x-python",
   "name": "python",
   "nbconvert_exporter": "python",
   "pygments_lexer": "ipython3",
   "version": "3.9.13"
  }
 },
 "nbformat": 4,
 "nbformat_minor": 5
}
